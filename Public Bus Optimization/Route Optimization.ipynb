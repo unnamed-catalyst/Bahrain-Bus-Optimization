{
 "cells": [
  {
   "cell_type": "markdown",
   "id": "ff266e52",
   "metadata": {},
   "source": [
    "## Libraries to be installed"
   ]
  },
  {
   "cell_type": "code",
   "execution_count": 1,
   "id": "a706499f",
   "metadata": {
    "scrolled": false
   },
   "outputs": [
    {
     "name": "stdout",
     "output_type": "stream",
     "text": [
      "Collecting googlemaps\n",
      "  Downloading googlemaps-4.10.0.tar.gz (33 kB)\n",
      "Requirement already satisfied: requests<3.0,>=2.20.0 in d:\\anaconda3\\lib\\site-packages (from googlemaps) (2.27.1)\n",
      "Requirement already satisfied: charset-normalizer~=2.0.0 in d:\\anaconda3\\lib\\site-packages (from requests<3.0,>=2.20.0->googlemaps) (2.0.4)\n",
      "Requirement already satisfied: urllib3<1.27,>=1.21.1 in d:\\anaconda3\\lib\\site-packages (from requests<3.0,>=2.20.0->googlemaps) (1.26.9)\n",
      "Requirement already satisfied: idna<4,>=2.5 in d:\\anaconda3\\lib\\site-packages (from requests<3.0,>=2.20.0->googlemaps) (3.3)\n",
      "Requirement already satisfied: certifi>=2017.4.17 in d:\\anaconda3\\lib\\site-packages (from requests<3.0,>=2.20.0->googlemaps) (2021.10.8)\n",
      "Building wheels for collected packages: googlemaps\n",
      "  Building wheel for googlemaps (setup.py): started\n",
      "  Building wheel for googlemaps (setup.py): finished with status 'done'\n",
      "  Created wheel for googlemaps: filename=googlemaps-4.10.0-py3-none-any.whl size=40716 sha256=e69e56df61581779d0817294141a8d581392e12e33dc9de507dd0ae25604b40d\n",
      "  Stored in directory: c:\\users\\nawaf\\appdata\\local\\pip\\cache\\wheels\\d9\\5f\\46\\54a2bdb4bcb07d3faba4463d2884865705914cc72a7b8bb5f0\n",
      "Successfully built googlemaps\n",
      "Installing collected packages: googlemaps\n",
      "Successfully installed googlemaps-4.10.0\n"
     ]
    },
    {
     "name": "stderr",
     "output_type": "stream",
     "text": [
      "WARNING: Ignoring invalid distribution -rotobuf (d:\\anaconda3\\lib\\site-packages)\n",
      "WARNING: Ignoring invalid distribution -rotobuf (d:\\anaconda3\\lib\\site-packages)\n",
      "WARNING: Ignoring invalid distribution -rotobuf (d:\\anaconda3\\lib\\site-packages)\n",
      "WARNING: Ignoring invalid distribution -rotobuf (d:\\anaconda3\\lib\\site-packages)\n",
      "WARNING: Ignoring invalid distribution -rotobuf (d:\\anaconda3\\lib\\site-packages)\n",
      "WARNING: Ignoring invalid distribution -rotobuf (d:\\anaconda3\\lib\\site-packages)\n",
      "WARNING: Ignoring invalid distribution -rotobuf (d:\\anaconda3\\lib\\site-packages)\n"
     ]
    }
   ],
   "source": [
    "!pip install googlemaps"
   ]
  },
  {
   "cell_type": "code",
   "execution_count": 239,
   "id": "0b28edc5",
   "metadata": {},
   "outputs": [
    {
     "name": "stdout",
     "output_type": "stream",
     "text": [
      "Requirement already satisfied: python_tsp in d:\\anaconda3\\lib\\site-packages (0.3.1)\n",
      "Requirement already satisfied: numpy in d:\\anaconda3\\lib\\site-packages (from python_tsp) (1.21.5)\n",
      "Requirement already satisfied: tsplib95<0.8.0,>=0.7.1 in d:\\anaconda3\\lib\\site-packages (from python_tsp) (0.7.1)\n",
      "Requirement already satisfied: requests<3.0.0,>=2.28.0 in d:\\anaconda3\\lib\\site-packages (from python_tsp) (2.28.2)\n",
      "Requirement already satisfied: charset-normalizer<4,>=2 in d:\\anaconda3\\lib\\site-packages (from requests<3.0.0,>=2.28.0->python_tsp) (2.0.4)\n",
      "Requirement already satisfied: certifi>=2017.4.17 in d:\\anaconda3\\lib\\site-packages (from requests<3.0.0,>=2.28.0->python_tsp) (2021.10.8)\n",
      "Requirement already satisfied: idna<4,>=2.5 in d:\\anaconda3\\lib\\site-packages (from requests<3.0.0,>=2.28.0->python_tsp) (3.3)\n",
      "Requirement already satisfied: urllib3<1.27,>=1.21.1 in d:\\anaconda3\\lib\\site-packages (from requests<3.0.0,>=2.28.0->python_tsp) (1.26.9)\n",
      "Requirement already satisfied: tabulate~=0.8.7 in d:\\anaconda3\\lib\\site-packages (from tsplib95<0.8.0,>=0.7.1->python_tsp) (0.8.9)\n",
      "Requirement already satisfied: Click>=6.0 in d:\\anaconda3\\lib\\site-packages (from tsplib95<0.8.0,>=0.7.1->python_tsp) (8.0.4)\n",
      "Requirement already satisfied: Deprecated~=1.2.9 in d:\\anaconda3\\lib\\site-packages (from tsplib95<0.8.0,>=0.7.1->python_tsp) (1.2.13)\n",
      "Requirement already satisfied: networkx~=2.1 in d:\\anaconda3\\lib\\site-packages (from tsplib95<0.8.0,>=0.7.1->python_tsp) (2.7.1)\n",
      "Requirement already satisfied: colorama in d:\\anaconda3\\lib\\site-packages (from Click>=6.0->tsplib95<0.8.0,>=0.7.1->python_tsp) (0.4.4)\n",
      "Requirement already satisfied: wrapt<2,>=1.10 in d:\\anaconda3\\lib\\site-packages (from Deprecated~=1.2.9->tsplib95<0.8.0,>=0.7.1->python_tsp) (1.12.1)\n"
     ]
    },
    {
     "name": "stderr",
     "output_type": "stream",
     "text": [
      "WARNING: Ignoring invalid distribution -rotobuf (d:\\anaconda3\\lib\\site-packages)\n",
      "WARNING: Ignoring invalid distribution -rotobuf (d:\\anaconda3\\lib\\site-packages)\n",
      "WARNING: Ignoring invalid distribution -rotobuf (d:\\anaconda3\\lib\\site-packages)\n",
      "WARNING: Ignoring invalid distribution -rotobuf (d:\\anaconda3\\lib\\site-packages)\n",
      "WARNING: Ignoring invalid distribution -rotobuf (d:\\anaconda3\\lib\\site-packages)\n",
      "WARNING: Ignoring invalid distribution -rotobuf (d:\\anaconda3\\lib\\site-packages)\n"
     ]
    }
   ],
   "source": [
    "!pip install python_tsp"
   ]
  },
  {
   "cell_type": "code",
   "execution_count": 240,
   "id": "f3c3cc63",
   "metadata": {
    "scrolled": true
   },
   "outputs": [
    {
     "name": "stdout",
     "output_type": "stream",
     "text": [
      "Requirement already satisfied: gmaps in d:\\anaconda3\\lib\\site-packages (0.9.0)\n",
      "Requirement already satisfied: ipython>=5.3.0 in d:\\anaconda3\\lib\\site-packages (from gmaps) (8.2.0)\n",
      "Requirement already satisfied: six in d:\\anaconda3\\lib\\site-packages (from gmaps) (1.16.0)\n",
      "Requirement already satisfied: traitlets>=4.3.0 in d:\\anaconda3\\lib\\site-packages (from gmaps) (5.1.1)\n",
      "Requirement already satisfied: geojson>=2.0.0 in d:\\anaconda3\\lib\\site-packages (from gmaps) (3.0.0)\n",
      "Requirement already satisfied: ipywidgets>=7.0.0 in d:\\anaconda3\\lib\\site-packages (from gmaps) (7.6.5)\n",
      "Requirement already satisfied: colorama in d:\\anaconda3\\lib\\site-packages (from ipython>=5.3.0->gmaps) (0.4.4)\n",
      "Requirement already satisfied: pickleshare in d:\\anaconda3\\lib\\site-packages (from ipython>=5.3.0->gmaps) (0.7.5)\n",
      "Requirement already satisfied: backcall in d:\\anaconda3\\lib\\site-packages (from ipython>=5.3.0->gmaps) (0.2.0)\n",
      "Requirement already satisfied: prompt-toolkit!=3.0.0,!=3.0.1,<3.1.0,>=2.0.0 in d:\\anaconda3\\lib\\site-packages (from ipython>=5.3.0->gmaps) (3.0.20)\n",
      "Requirement already satisfied: pygments>=2.4.0 in d:\\anaconda3\\lib\\site-packages (from ipython>=5.3.0->gmaps) (2.11.2)\n",
      "Requirement already satisfied: stack-data in d:\\anaconda3\\lib\\site-packages (from ipython>=5.3.0->gmaps) (0.2.0)\n",
      "Requirement already satisfied: decorator in d:\\anaconda3\\lib\\site-packages (from ipython>=5.3.0->gmaps) (5.1.1)\n",
      "Requirement already satisfied: setuptools>=18.5 in d:\\anaconda3\\lib\\site-packages (from ipython>=5.3.0->gmaps) (61.2.0)\n",
      "Requirement already satisfied: matplotlib-inline in d:\\anaconda3\\lib\\site-packages (from ipython>=5.3.0->gmaps) (0.1.2)\n",
      "Requirement already satisfied: jedi>=0.16 in d:\\anaconda3\\lib\\site-packages (from ipython>=5.3.0->gmaps) (0.18.1)\n",
      "Requirement already satisfied: widgetsnbextension~=3.5.0 in d:\\anaconda3\\lib\\site-packages (from ipywidgets>=7.0.0->gmaps) (3.5.2)\n",
      "Requirement already satisfied: ipython-genutils~=0.2.0 in d:\\anaconda3\\lib\\site-packages (from ipywidgets>=7.0.0->gmaps) (0.2.0)\n",
      "Requirement already satisfied: nbformat>=4.2.0 in d:\\anaconda3\\lib\\site-packages (from ipywidgets>=7.0.0->gmaps) (5.3.0)\n",
      "Requirement already satisfied: jupyterlab-widgets>=1.0.0 in d:\\anaconda3\\lib\\site-packages (from ipywidgets>=7.0.0->gmaps) (1.0.0)\n",
      "Requirement already satisfied: ipykernel>=4.5.1 in d:\\anaconda3\\lib\\site-packages (from ipywidgets>=7.0.0->gmaps) (6.9.1)\n",
      "Requirement already satisfied: nest-asyncio in d:\\anaconda3\\lib\\site-packages (from ipykernel>=4.5.1->ipywidgets>=7.0.0->gmaps) (1.5.5)\n",
      "Requirement already satisfied: debugpy<2.0,>=1.0.0 in d:\\anaconda3\\lib\\site-packages (from ipykernel>=4.5.1->ipywidgets>=7.0.0->gmaps) (1.5.1)\n",
      "Requirement already satisfied: tornado<7.0,>=4.2 in d:\\anaconda3\\lib\\site-packages (from ipykernel>=4.5.1->ipywidgets>=7.0.0->gmaps) (6.1)\n",
      "Requirement already satisfied: jupyter-client<8.0 in d:\\anaconda3\\lib\\site-packages (from ipykernel>=4.5.1->ipywidgets>=7.0.0->gmaps) (6.1.12)\n",
      "Requirement already satisfied: parso<0.9.0,>=0.8.0 in d:\\anaconda3\\lib\\site-packages (from jedi>=0.16->ipython>=5.3.0->gmaps) (0.8.3)\n",
      "Requirement already satisfied: pyzmq>=13 in d:\\anaconda3\\lib\\site-packages (from jupyter-client<8.0->ipykernel>=4.5.1->ipywidgets>=7.0.0->gmaps) (22.3.0)\n",
      "Requirement already satisfied: jupyter-core>=4.6.0 in d:\\anaconda3\\lib\\site-packages (from jupyter-client<8.0->ipykernel>=4.5.1->ipywidgets>=7.0.0->gmaps) (4.9.2)\n",
      "Requirement already satisfied: python-dateutil>=2.1 in d:\\anaconda3\\lib\\site-packages (from jupyter-client<8.0->ipykernel>=4.5.1->ipywidgets>=7.0.0->gmaps) (2.8.2)\n",
      "Requirement already satisfied: pywin32>=1.0 in d:\\anaconda3\\lib\\site-packages (from jupyter-core>=4.6.0->jupyter-client<8.0->ipykernel>=4.5.1->ipywidgets>=7.0.0->gmaps) (302)\n",
      "Requirement already satisfied: jsonschema>=2.6 in d:\\anaconda3\\lib\\site-packages (from nbformat>=4.2.0->ipywidgets>=7.0.0->gmaps) (4.4.0)\n",
      "Requirement already satisfied: fastjsonschema in d:\\anaconda3\\lib\\site-packages (from nbformat>=4.2.0->ipywidgets>=7.0.0->gmaps) (2.15.1)\n",
      "Requirement already satisfied: pyrsistent!=0.17.0,!=0.17.1,!=0.17.2,>=0.14.0 in d:\\anaconda3\\lib\\site-packages (from jsonschema>=2.6->nbformat>=4.2.0->ipywidgets>=7.0.0->gmaps) (0.18.0)\n",
      "Requirement already satisfied: attrs>=17.4.0 in d:\\anaconda3\\lib\\site-packages (from jsonschema>=2.6->nbformat>=4.2.0->ipywidgets>=7.0.0->gmaps) (21.4.0)\n",
      "Requirement already satisfied: wcwidth in d:\\anaconda3\\lib\\site-packages (from prompt-toolkit!=3.0.0,!=3.0.1,<3.1.0,>=2.0.0->ipython>=5.3.0->gmaps) (0.2.5)\n",
      "Requirement already satisfied: notebook>=4.4.1 in d:\\anaconda3\\lib\\site-packages (from widgetsnbextension~=3.5.0->ipywidgets>=7.0.0->gmaps) (6.4.8)\n",
      "Requirement already satisfied: Send2Trash>=1.8.0 in d:\\anaconda3\\lib\\site-packages (from notebook>=4.4.1->widgetsnbextension~=3.5.0->ipywidgets>=7.0.0->gmaps) (1.8.0)\n",
      "Requirement already satisfied: jinja2 in d:\\anaconda3\\lib\\site-packages (from notebook>=4.4.1->widgetsnbextension~=3.5.0->ipywidgets>=7.0.0->gmaps) (2.11.3)\n",
      "Requirement already satisfied: prometheus-client in d:\\anaconda3\\lib\\site-packages (from notebook>=4.4.1->widgetsnbextension~=3.5.0->ipywidgets>=7.0.0->gmaps) (0.13.1)\n",
      "Requirement already satisfied: nbconvert in d:\\anaconda3\\lib\\site-packages (from notebook>=4.4.1->widgetsnbextension~=3.5.0->ipywidgets>=7.0.0->gmaps) (6.4.4)\n",
      "Requirement already satisfied: terminado>=0.8.3 in d:\\anaconda3\\lib\\site-packages (from notebook>=4.4.1->widgetsnbextension~=3.5.0->ipywidgets>=7.0.0->gmaps) (0.13.1)\n",
      "Requirement already satisfied: argon2-cffi in d:\\anaconda3\\lib\\site-packages (from notebook>=4.4.1->widgetsnbextension~=3.5.0->ipywidgets>=7.0.0->gmaps) (21.3.0)\n",
      "Requirement already satisfied: pywinpty>=1.1.0 in d:\\anaconda3\\lib\\site-packages (from terminado>=0.8.3->notebook>=4.4.1->widgetsnbextension~=3.5.0->ipywidgets>=7.0.0->gmaps) (2.0.2)\n",
      "Requirement already satisfied: argon2-cffi-bindings in d:\\anaconda3\\lib\\site-packages (from argon2-cffi->notebook>=4.4.1->widgetsnbextension~=3.5.0->ipywidgets>=7.0.0->gmaps) (21.2.0)\n",
      "Requirement already satisfied: cffi>=1.0.1 in d:\\anaconda3\\lib\\site-packages (from argon2-cffi-bindings->argon2-cffi->notebook>=4.4.1->widgetsnbextension~=3.5.0->ipywidgets>=7.0.0->gmaps) (1.15.0)\n",
      "Requirement already satisfied: pycparser in d:\\anaconda3\\lib\\site-packages (from cffi>=1.0.1->argon2-cffi-bindings->argon2-cffi->notebook>=4.4.1->widgetsnbextension~=3.5.0->ipywidgets>=7.0.0->gmaps) (2.21)\n",
      "Requirement already satisfied: MarkupSafe>=0.23 in d:\\anaconda3\\lib\\site-packages (from jinja2->notebook>=4.4.1->widgetsnbextension~=3.5.0->ipywidgets>=7.0.0->gmaps) (2.0.1)\n",
      "Requirement already satisfied: entrypoints>=0.2.2 in d:\\anaconda3\\lib\\site-packages (from nbconvert->notebook>=4.4.1->widgetsnbextension~=3.5.0->ipywidgets>=7.0.0->gmaps) (0.4)\n",
      "Requirement already satisfied: defusedxml in d:\\anaconda3\\lib\\site-packages (from nbconvert->notebook>=4.4.1->widgetsnbextension~=3.5.0->ipywidgets>=7.0.0->gmaps) (0.7.1)\n",
      "Requirement already satisfied: bleach in d:\\anaconda3\\lib\\site-packages (from nbconvert->notebook>=4.4.1->widgetsnbextension~=3.5.0->ipywidgets>=7.0.0->gmaps) (4.1.0)\n",
      "Requirement already satisfied: testpath in d:\\anaconda3\\lib\\site-packages (from nbconvert->notebook>=4.4.1->widgetsnbextension~=3.5.0->ipywidgets>=7.0.0->gmaps) (0.5.0)\n",
      "Requirement already satisfied: pandocfilters>=1.4.1 in d:\\anaconda3\\lib\\site-packages (from nbconvert->notebook>=4.4.1->widgetsnbextension~=3.5.0->ipywidgets>=7.0.0->gmaps) (1.5.0)\n",
      "Requirement already satisfied: jupyterlab-pygments in d:\\anaconda3\\lib\\site-packages (from nbconvert->notebook>=4.4.1->widgetsnbextension~=3.5.0->ipywidgets>=7.0.0->gmaps) (0.1.2)\n",
      "Requirement already satisfied: nbclient<0.6.0,>=0.5.0 in d:\\anaconda3\\lib\\site-packages (from nbconvert->notebook>=4.4.1->widgetsnbextension~=3.5.0->ipywidgets>=7.0.0->gmaps) (0.5.13)\n",
      "Requirement already satisfied: mistune<2,>=0.8.1 in d:\\anaconda3\\lib\\site-packages (from nbconvert->notebook>=4.4.1->widgetsnbextension~=3.5.0->ipywidgets>=7.0.0->gmaps) (0.8.4)\n",
      "Requirement already satisfied: beautifulsoup4 in d:\\anaconda3\\lib\\site-packages (from nbconvert->notebook>=4.4.1->widgetsnbextension~=3.5.0->ipywidgets>=7.0.0->gmaps) (4.11.1)\n",
      "Requirement already satisfied: soupsieve>1.2 in d:\\anaconda3\\lib\\site-packages (from beautifulsoup4->nbconvert->notebook>=4.4.1->widgetsnbextension~=3.5.0->ipywidgets>=7.0.0->gmaps) (2.3.1)\n",
      "Requirement already satisfied: packaging in d:\\anaconda3\\lib\\site-packages (from bleach->nbconvert->notebook>=4.4.1->widgetsnbextension~=3.5.0->ipywidgets>=7.0.0->gmaps) (21.3)\n",
      "Requirement already satisfied: webencodings in d:\\anaconda3\\lib\\site-packages (from bleach->nbconvert->notebook>=4.4.1->widgetsnbextension~=3.5.0->ipywidgets>=7.0.0->gmaps) (0.5.1)\n",
      "Requirement already satisfied: pyparsing!=3.0.5,>=2.0.2 in d:\\anaconda3\\lib\\site-packages (from packaging->bleach->nbconvert->notebook>=4.4.1->widgetsnbextension~=3.5.0->ipywidgets>=7.0.0->gmaps) (3.0.4)\n",
      "Requirement already satisfied: asttokens in d:\\anaconda3\\lib\\site-packages (from stack-data->ipython>=5.3.0->gmaps) (2.0.5)\n",
      "Requirement already satisfied: pure-eval in d:\\anaconda3\\lib\\site-packages (from stack-data->ipython>=5.3.0->gmaps) (0.2.2)\n",
      "Requirement already satisfied: executing in d:\\anaconda3\\lib\\site-packages (from stack-data->ipython>=5.3.0->gmaps) (0.8.3)\n"
     ]
    },
    {
     "name": "stderr",
     "output_type": "stream",
     "text": [
      "WARNING: Ignoring invalid distribution -rotobuf (d:\\anaconda3\\lib\\site-packages)\n",
      "WARNING: Ignoring invalid distribution -rotobuf (d:\\anaconda3\\lib\\site-packages)\n",
      "WARNING: Ignoring invalid distribution -rotobuf (d:\\anaconda3\\lib\\site-packages)\n",
      "WARNING: Ignoring invalid distribution -rotobuf (d:\\anaconda3\\lib\\site-packages)\n",
      "WARNING: Ignoring invalid distribution -rotobuf (d:\\anaconda3\\lib\\site-packages)\n",
      "WARNING: Ignoring invalid distribution -rotobuf (d:\\anaconda3\\lib\\site-packages)\n"
     ]
    }
   ],
   "source": [
    "!pip install gmaps"
   ]
  },
  {
   "cell_type": "markdown",
   "id": "fc9e69a4",
   "metadata": {},
   "source": [
    "## Importing all needed libraries"
   ]
  },
  {
   "cell_type": "code",
   "execution_count": 9,
   "id": "95a86bf0",
   "metadata": {},
   "outputs": [],
   "source": [
    "import googlemaps\n",
    "from datetime import datetime\n",
    "import pandas as pd\n",
    "import numpy as np\n",
    "from python_tsp.exact import solve_tsp_dynamic_programming\n",
    "from python_tsp.heuristics import solve_tsp_simulated_annealing\n",
    "import gmaps"
   ]
  },
  {
   "cell_type": "markdown",
   "id": "0a615ab4",
   "metadata": {},
   "source": [
    "## API Key (don't leak please)"
   ]
  },
  {
   "cell_type": "code",
   "execution_count": 1,
   "id": "e1521615",
   "metadata": {},
   "outputs": [],
   "source": [
    "API_key = \"YOUR GOOGLE API KEY GOES HERE\""
   ]
  },
  {
   "cell_type": "markdown",
   "id": "40efb9b9",
   "metadata": {},
   "source": [
    "### Run to optimize bus route U1"
   ]
  },
  {
   "cell_type": "code",
   "execution_count": 22,
   "id": "1798ef91",
   "metadata": {},
   "outputs": [],
   "source": [
    "# Initializing Google Maps Client\n",
    "gmaps_client = googlemaps.Client(key = API_key)\n",
    "\n",
    "# Reading U1 bus stop dataset into dataframe df\n",
    "df = pd.read_csv('U1_bus_stops.csv')\n",
    "df['distance_text'] = np.nan\n",
    "df['duration_text'] = np.nan\n",
    "\n",
    "# Setting start_time for optimized route\n",
    "start_time = datetime.now()\n",
    "# start_time = datetime(2023, 2, 9, 15, 0, 0, 0)\n",
    "\n",
    "# Setting bus stops to number of bus stops in route U1\n",
    "bus_stops = 14\n",
    "\n",
    "# df.head()"
   ]
  },
  {
   "cell_type": "markdown",
   "id": "ba3fae81",
   "metadata": {},
   "source": [
    "### Run to optimize bus route U2"
   ]
  },
  {
   "cell_type": "code",
   "execution_count": 4,
   "id": "e87f604c",
   "metadata": {},
   "outputs": [],
   "source": [
    "# Initializing Google Maps Client\n",
    "gmaps_client = googlemaps.Client(key = API_key)\n",
    "\n",
    "# Reading U1 bus stop dataset into dataframe df\n",
    "df = pd.read_csv('U2_bus_stops.csv')\n",
    "df['distance_text'] = np.nan\n",
    "df['duration_text'] = np.nan\n",
    "\n",
    "# Setting start_time for optimized route\n",
    "start_time = datetime.now()\n",
    "# start_time = datetime(2023, 2, 9, 15, 0, 0, 0)\n",
    "\n",
    "# Setting bus stops to number of bus stops in route U2\n",
    "bus_stops = 19\n",
    "\n",
    "# df.head()"
   ]
  },
  {
   "cell_type": "markdown",
   "id": "7488e9c5",
   "metadata": {},
   "source": [
    "## Creating Distance Variables"
   ]
  },
  {
   "cell_type": "code",
   "execution_count": 23,
   "id": "4ddbb58a",
   "metadata": {},
   "outputs": [],
   "source": [
    "# Adding distance and travel_time information to the dataframe\n",
    "for index, row in df.iterrows():\n",
    "    if row['from_node'] != row['to_node']:\n",
    "        direction_result = gmaps_client.directions(row['from_lat_long'], row['to_lat_long'], \n",
    "                                                   mode=\"driving\", departure_time=start_time)\n",
    "            \n",
    "        df.loc[index, 'distance'] = direction_result[0]['legs'][0]['distance']['value']\n",
    "        df.loc[index, 'travel_time'] = direction_result[0]['legs'][0]['duration']['value']\n",
    "        df.loc[index, 'distance_text'] = direction_result[0]['legs'][0]['distance']['value']\n",
    "        df.loc[index, 'duration_text'] = direction_result[0]['legs'][0]['duration']['value']\n",
    "        \n",
    "# df.head()"
   ]
  },
  {
   "cell_type": "code",
   "execution_count": 24,
   "id": "0843d5e2",
   "metadata": {},
   "outputs": [],
   "source": [
    "# Creating distance data dictionary containing distance from each stop to other stops\n",
    "distance_dict = df.set_index(['from_node', 'to_node'])['distance'].to_dict()\n",
    "\n",
    "# distance_dict"
   ]
  },
  {
   "cell_type": "code",
   "execution_count": 25,
   "id": "b8a9aad8",
   "metadata": {},
   "outputs": [],
   "source": [
    "# Creating distance matrix from distance dictionary\n",
    "distance = []\n",
    "\n",
    "for from_node in df.from_node.unique().tolist():\n",
    "    distance_1d = []\n",
    "    for to_node in df.to_node.unique().tolist():\n",
    "        distance_1d.append(distance_dict[from_node, to_node]/1000)\n",
    "    distance.append(distance_1d)\n",
    "    \n",
    "# distance"
   ]
  },
  {
   "cell_type": "code",
   "execution_count": 26,
   "id": "cd459698",
   "metadata": {},
   "outputs": [],
   "source": [
    "# Creating duration data dictionary containing travel time from each stop to other stops\n",
    "duration_dict = df.set_index(['from_node', 'to_node'])['travel_time'].to_dict()\n",
    "\n",
    "# duration_dict"
   ]
  },
  {
   "cell_type": "code",
   "execution_count": 27,
   "id": "e8cf9c72",
   "metadata": {},
   "outputs": [],
   "source": [
    "# Creating duration matrix from duration dictionary\n",
    "duration = []\n",
    "\n",
    "for from_node in df.from_node.unique().tolist():\n",
    "    duration_1d = []\n",
    "    for to_node in df.to_node.unique().tolist():\n",
    "        duration_1d.append(duration_dict[from_node, to_node]/60)\n",
    "    duration.append(duration_1d)\n",
    "    \n",
    "# duration"
   ]
  },
  {
   "cell_type": "markdown",
   "id": "63cc870a",
   "metadata": {},
   "source": [
    "## Applying TSP Using the Distance and Duration Matrices"
   ]
  },
  {
   "cell_type": "code",
   "execution_count": 28,
   "id": "02f08221",
   "metadata": {},
   "outputs": [],
   "source": [
    "# Converting distance and duration matrices into arrays\n",
    "distance_matrix = np.array(distance)\n",
    "duration_matrix = np.array(duration)"
   ]
  },
  {
   "cell_type": "code",
   "execution_count": 29,
   "id": "f78798de",
   "metadata": {},
   "outputs": [],
   "source": [
    "# Using optimization algorithm on duration and distance matrices\n",
    "\n",
    "# Permutation of stops to give optimized distance travelled\n",
    "permutation, distance = solve_tsp_simulated_annealing(distance_matrix)\n",
    "\n",
    "# Permutation of stops to give optimized time travelled\n",
    "permutation, duration = solve_tsp_simulated_annealing(duration_matrix)\n",
    "\n",
    "# permutation"
   ]
  },
  {
   "cell_type": "code",
   "execution_count": 30,
   "id": "0f572bfe",
   "metadata": {},
   "outputs": [],
   "source": [
    "# Mapping permutation indices to their corresponding labels\n",
    "city_id_dict = df[['city_id', 'from_node']].drop_duplicates().set_index(['city_id'])['from_node'].to_dict()\n",
    "\n",
    "route = []\n",
    "for i in permutation:\n",
    "    route.append(city_id_dict[i])\n",
    "route.append(city_id_dict[0])"
   ]
  },
  {
   "cell_type": "markdown",
   "id": "9fffada5",
   "metadata": {},
   "source": [
    "## Plotting the Optimal Route Output"
   ]
  },
  {
   "cell_type": "code",
   "execution_count": 31,
   "id": "dffeb0e5",
   "metadata": {},
   "outputs": [],
   "source": [
    "# Creating latitude dictionary\n",
    "lat_dict = df[['from_node', 'from_lat']].drop_duplicates().set_index(['from_node'])['from_lat'].to_dict()\n",
    "\n",
    "# lat_dict"
   ]
  },
  {
   "cell_type": "code",
   "execution_count": 32,
   "id": "8e58e8ca",
   "metadata": {},
   "outputs": [],
   "source": [
    "long_dict = df[['from_node', 'from_long']].drop_duplicates().set_index(['from_node'])['from_long'].to_dict()\n",
    "\n",
    "# long_dict"
   ]
  },
  {
   "cell_type": "code",
   "execution_count": 33,
   "id": "88e4562e",
   "metadata": {
    "scrolled": true
   },
   "outputs": [
    {
     "name": "stdout",
     "output_type": "stream",
     "text": [
      " --> Isa Town Terminal 2 --> Isa Town PID Stop --> Sh. Salman Highway-10 Jary AlSheikh Riffa --> Safreh Housing Riffa --> Bahrain University Main Gate 1 --> University of Bahrain - Sakhir 2 --> Bahrain University Main Gate/2 Zallaq --> Sh. Salman Highway-11 Riffa --> 16 December HWY-1 Isa Town --> Sh. Salman Highway-13 --> Sh. Abdulla School-1 Isa Town --> Educational Area - 2 Isa Town --> Bahrain University Isa Town --> Isa Town Gate-2 Isa Town --> Isa Town Terminal 2\n",
      "\n",
      "\n",
      "The distance of the optimized route is 42.833 km\n",
      "The optimized route duration is 83.35 minutes\n"
     ]
    }
   ],
   "source": [
    "# Printing the optimal route output to the screen\n",
    "route_output = \"\"\n",
    "\n",
    "for stop in route:\n",
    "    route_output += \" --> \" + stop \n",
    "    \n",
    "print(route_output)\n",
    "print(\"\\n\")\n",
    "print(\"The distance of the optimized route is\", distance, \"km\")\n",
    "print(\"The optimized route duration is\", duration+(bus_stops*1.5), \"minutes\")"
   ]
  },
  {
   "cell_type": "code",
   "execution_count": 34,
   "id": "2acd026e",
   "metadata": {},
   "outputs": [
    {
     "data": {
      "application/vnd.jupyter.widget-view+json": {
       "model_id": "e8627dd1950149f6ab768cdc969dd622",
       "version_major": 2,
       "version_minor": 0
      },
      "text/plain": [
       "Figure(layout=FigureLayout(height='420px'))"
      ]
     },
     "metadata": {},
     "output_type": "display_data"
    }
   ],
   "source": [
    "# Generating the Google Maps figure with the optimal route mapped out\n",
    "gmaps.configure(api_key = API_key)\n",
    "fig = gmaps.figure()\n",
    "for i in range(len(route)-1):\n",
    "    from_node = route[i]\n",
    "    to_node = route[i+1]\n",
    "    \n",
    "    layer = gmaps.directions.Directions((lat_dict[from_node], long_dict[from_node]),\n",
    "                                       (lat_dict[to_node], long_dict[to_node]), mode=\"driving\", departure_time=start_time)\n",
    "    fig.add_layer(layer)\n",
    "\n",
    "fig"
   ]
  }
 ],
 "metadata": {
  "kernelspec": {
   "display_name": "Python 3 (ipykernel)",
   "language": "python",
   "name": "python3"
  },
  "language_info": {
   "codemirror_mode": {
    "name": "ipython",
    "version": 3
   },
   "file_extension": ".py",
   "mimetype": "text/x-python",
   "name": "python",
   "nbconvert_exporter": "python",
   "pygments_lexer": "ipython3",
   "version": "3.9.12"
  }
 },
 "nbformat": 4,
 "nbformat_minor": 5
}
